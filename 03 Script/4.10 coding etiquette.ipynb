{
 "cells": [
  {
   "cell_type": "code",
   "execution_count": 1,
   "id": "0b92f55c-27c4-461b-80a0-1f01d8790cf1",
   "metadata": {},
   "outputs": [],
   "source": [
    "# import libraries\n",
    "import pandas as pd\n",
    "import numpy as np\n",
    "import os\n",
    "import matplotlib.pyplot as plt\n",
    "import seaborn as sns\n",
    "import scipy"
   ]
  },
  {
   "cell_type": "code",
   "execution_count": 6,
   "id": "5606c4ff-9820-4e41-818a-79d39696af9a",
   "metadata": {},
   "outputs": [],
   "source": [
    "# import latest updated file\n",
    "instacart_final = pd.read_pickle(r'C:\\Users\\User\\Documents\\Instacart Basket Analysis\\02 Data\\Prepared Data\\orders_products_customers_merged.pkl')"
   ]
  },
  {
   "cell_type": "code",
   "execution_count": 8,
   "id": "8bedaf5f-28c1-496c-a930-b913850522fc",
   "metadata": {},
   "outputs": [],
   "source": [
    "path = r'C:\\Users\\User\\Documents\\Instacart Basket Analysis'"
   ]
  },
  {
   "cell_type": "code",
   "execution_count": 10,
   "id": "cc469f8b-4034-4b61-a4b0-99371b24d10f",
   "metadata": {},
   "outputs": [],
   "source": [
    "instacart_final = pd.read_pickle(os.path.join(path, '02 Data', 'Prepared Data', 'orders_products_customers_merged.pkl'))"
   ]
  },
  {
   "cell_type": "code",
   "execution_count": 12,
   "id": "88950441-a7db-413e-94ef-af5a21b5dabd",
   "metadata": {},
   "outputs": [
    {
     "data": {
      "text/html": [
       "<div>\n",
       "<style scoped>\n",
       "    .dataframe tbody tr th:only-of-type {\n",
       "        vertical-align: middle;\n",
       "    }\n",
       "\n",
       "    .dataframe tbody tr th {\n",
       "        vertical-align: top;\n",
       "    }\n",
       "\n",
       "    .dataframe thead th {\n",
       "        text-align: right;\n",
       "    }\n",
       "</style>\n",
       "<table border=\"1\" class=\"dataframe\">\n",
       "  <thead>\n",
       "    <tr style=\"text-align: right;\">\n",
       "      <th></th>\n",
       "      <th>product_id</th>\n",
       "      <th>product_name</th>\n",
       "      <th>aisle_id</th>\n",
       "      <th>department_id</th>\n",
       "      <th>prices</th>\n",
       "      <th>order_id</th>\n",
       "      <th>user_id</th>\n",
       "      <th>order_number</th>\n",
       "      <th>orders_day_of_week</th>\n",
       "      <th>order_hour_of_day</th>\n",
       "      <th>...</th>\n",
       "      <th>first_name</th>\n",
       "      <th>last_name</th>\n",
       "      <th>gender</th>\n",
       "      <th>state</th>\n",
       "      <th>age</th>\n",
       "      <th>date_joined</th>\n",
       "      <th>n_dependants</th>\n",
       "      <th>marital_status</th>\n",
       "      <th>income</th>\n",
       "      <th>_merge</th>\n",
       "    </tr>\n",
       "  </thead>\n",
       "  <tbody>\n",
       "    <tr>\n",
       "      <th>0</th>\n",
       "      <td>1</td>\n",
       "      <td>Chocolate Sandwich Cookies</td>\n",
       "      <td>61</td>\n",
       "      <td>19</td>\n",
       "      <td>5.8</td>\n",
       "      <td>3139998</td>\n",
       "      <td>138</td>\n",
       "      <td>28</td>\n",
       "      <td>6</td>\n",
       "      <td>11</td>\n",
       "      <td>...</td>\n",
       "      <td>Charles</td>\n",
       "      <td>Cox</td>\n",
       "      <td>Male</td>\n",
       "      <td>Minnesota</td>\n",
       "      <td>81</td>\n",
       "      <td>8/1/2019</td>\n",
       "      <td>1</td>\n",
       "      <td>married</td>\n",
       "      <td>49620</td>\n",
       "      <td>both</td>\n",
       "    </tr>\n",
       "    <tr>\n",
       "      <th>1</th>\n",
       "      <td>1</td>\n",
       "      <td>Chocolate Sandwich Cookies</td>\n",
       "      <td>61</td>\n",
       "      <td>19</td>\n",
       "      <td>5.8</td>\n",
       "      <td>1977647</td>\n",
       "      <td>138</td>\n",
       "      <td>30</td>\n",
       "      <td>6</td>\n",
       "      <td>17</td>\n",
       "      <td>...</td>\n",
       "      <td>Charles</td>\n",
       "      <td>Cox</td>\n",
       "      <td>Male</td>\n",
       "      <td>Minnesota</td>\n",
       "      <td>81</td>\n",
       "      <td>8/1/2019</td>\n",
       "      <td>1</td>\n",
       "      <td>married</td>\n",
       "      <td>49620</td>\n",
       "      <td>both</td>\n",
       "    </tr>\n",
       "    <tr>\n",
       "      <th>2</th>\n",
       "      <td>1</td>\n",
       "      <td>Chocolate Sandwich Cookies</td>\n",
       "      <td>61</td>\n",
       "      <td>19</td>\n",
       "      <td>5.8</td>\n",
       "      <td>389851</td>\n",
       "      <td>709</td>\n",
       "      <td>2</td>\n",
       "      <td>0</td>\n",
       "      <td>21</td>\n",
       "      <td>...</td>\n",
       "      <td>Deborah</td>\n",
       "      <td>Glass</td>\n",
       "      <td>Female</td>\n",
       "      <td>Vermont</td>\n",
       "      <td>66</td>\n",
       "      <td>6/16/2018</td>\n",
       "      <td>2</td>\n",
       "      <td>married</td>\n",
       "      <td>158302</td>\n",
       "      <td>both</td>\n",
       "    </tr>\n",
       "    <tr>\n",
       "      <th>3</th>\n",
       "      <td>1</td>\n",
       "      <td>Chocolate Sandwich Cookies</td>\n",
       "      <td>61</td>\n",
       "      <td>19</td>\n",
       "      <td>5.8</td>\n",
       "      <td>652770</td>\n",
       "      <td>764</td>\n",
       "      <td>1</td>\n",
       "      <td>3</td>\n",
       "      <td>13</td>\n",
       "      <td>...</td>\n",
       "      <td>Heather</td>\n",
       "      <td>Myers</td>\n",
       "      <td>Female</td>\n",
       "      <td>Wisconsin</td>\n",
       "      <td>40</td>\n",
       "      <td>2/9/2020</td>\n",
       "      <td>3</td>\n",
       "      <td>married</td>\n",
       "      <td>31308</td>\n",
       "      <td>both</td>\n",
       "    </tr>\n",
       "    <tr>\n",
       "      <th>4</th>\n",
       "      <td>1</td>\n",
       "      <td>Chocolate Sandwich Cookies</td>\n",
       "      <td>61</td>\n",
       "      <td>19</td>\n",
       "      <td>5.8</td>\n",
       "      <td>1813452</td>\n",
       "      <td>764</td>\n",
       "      <td>3</td>\n",
       "      <td>4</td>\n",
       "      <td>17</td>\n",
       "      <td>...</td>\n",
       "      <td>Heather</td>\n",
       "      <td>Myers</td>\n",
       "      <td>Female</td>\n",
       "      <td>Wisconsin</td>\n",
       "      <td>40</td>\n",
       "      <td>2/9/2020</td>\n",
       "      <td>3</td>\n",
       "      <td>married</td>\n",
       "      <td>31308</td>\n",
       "      <td>both</td>\n",
       "    </tr>\n",
       "  </tbody>\n",
       "</table>\n",
       "<p>5 rows × 34 columns</p>\n",
       "</div>"
      ],
      "text/plain": [
       "   product_id                product_name  aisle_id  department_id  prices  \\\n",
       "0           1  Chocolate Sandwich Cookies        61             19     5.8   \n",
       "1           1  Chocolate Sandwich Cookies        61             19     5.8   \n",
       "2           1  Chocolate Sandwich Cookies        61             19     5.8   \n",
       "3           1  Chocolate Sandwich Cookies        61             19     5.8   \n",
       "4           1  Chocolate Sandwich Cookies        61             19     5.8   \n",
       "\n",
       "   order_id user_id  order_number  orders_day_of_week  order_hour_of_day  ...  \\\n",
       "0   3139998     138            28                   6                 11  ...   \n",
       "1   1977647     138            30                   6                 17  ...   \n",
       "2    389851     709             2                   0                 21  ...   \n",
       "3    652770     764             1                   3                 13  ...   \n",
       "4   1813452     764             3                   4                 17  ...   \n",
       "\n",
       "   first_name  last_name  gender      state age date_joined n_dependants  \\\n",
       "0     Charles        Cox    Male  Minnesota  81    8/1/2019            1   \n",
       "1     Charles        Cox    Male  Minnesota  81    8/1/2019            1   \n",
       "2     Deborah      Glass  Female    Vermont  66   6/16/2018            2   \n",
       "3     Heather      Myers  Female  Wisconsin  40    2/9/2020            3   \n",
       "4     Heather      Myers  Female  Wisconsin  40    2/9/2020            3   \n",
       "\n",
       "  marital_status  income _merge  \n",
       "0        married   49620   both  \n",
       "1        married   49620   both  \n",
       "2        married  158302   both  \n",
       "3        married   31308   both  \n",
       "4        married   31308   both  \n",
       "\n",
       "[5 rows x 34 columns]"
      ]
     },
     "execution_count": 12,
     "metadata": {},
     "output_type": "execute_result"
    }
   ],
   "source": [
    "instacart_final.head(5)"
   ]
  },
  {
   "cell_type": "code",
   "execution_count": 14,
   "id": "7ecbd414-1b9c-4e5d-83ad-782673e57ae2",
   "metadata": {},
   "outputs": [
    {
     "data": {
      "text/plain": [
       "(32404859, 34)"
      ]
     },
     "execution_count": 14,
     "metadata": {},
     "output_type": "execute_result"
    }
   ],
   "source": [
    "instacart_final.shape"
   ]
  },
  {
   "cell_type": "code",
   "execution_count": 16,
   "id": "c66b6ea5-8afd-4c4c-8853-20293a186e23",
   "metadata": {},
   "outputs": [
    {
     "data": {
      "text/plain": [
       "Index(['product_id', 'product_name', 'aisle_id', 'department_id', 'prices',\n",
       "       'order_id', 'user_id', 'order_number', 'orders_day_of_week',\n",
       "       'order_hour_of_day', 'days_since_prior_order', 'first_order',\n",
       "       'add_to_cart_order', 'reordered', 'price_range_loc', 'busiest_day',\n",
       "       'busiest_days', 'busiest_period_of_day', 'max_order', 'loyalty_flag',\n",
       "       'average_spend', 'spender_flag', 'customer_frequency', 'frequency_flag',\n",
       "       'first_name', 'last_name', 'gender', 'state', 'age', 'date_joined',\n",
       "       'n_dependants', 'marital_status', 'income', '_merge'],\n",
       "      dtype='object')"
      ]
     },
     "execution_count": 16,
     "metadata": {},
     "output_type": "execute_result"
    }
   ],
   "source": [
    "instacart_final.columns"
   ]
  },
  {
   "cell_type": "markdown",
   "id": "48e32555-6f53-439c-b137-a0539776c562",
   "metadata": {},
   "source": [
    "# step 2: Address security implications"
   ]
  },
  {
   "cell_type": "code",
   "execution_count": 18,
   "id": "e9b1bb0d-6a38-47c4-8a6d-0008f81b1dfd",
   "metadata": {},
   "outputs": [],
   "source": [
    "# dropping first name & last name columns due to PII\n",
    "instacart_final.drop(['first_name', 'last_name'], axis=1, inplace = True)"
   ]
  },
  {
   "cell_type": "code",
   "execution_count": 20,
   "id": "795390be-49cf-48fc-9d28-caffd5fb8973",
   "metadata": {},
   "outputs": [
    {
     "data": {
      "text/plain": [
       "Index(['product_id', 'product_name', 'aisle_id', 'department_id', 'prices',\n",
       "       'order_id', 'user_id', 'order_number', 'orders_day_of_week',\n",
       "       'order_hour_of_day', 'days_since_prior_order', 'first_order',\n",
       "       'add_to_cart_order', 'reordered', 'price_range_loc', 'busiest_day',\n",
       "       'busiest_days', 'busiest_period_of_day', 'max_order', 'loyalty_flag',\n",
       "       'average_spend', 'spender_flag', 'customer_frequency', 'frequency_flag',\n",
       "       'gender', 'state', 'age', 'date_joined', 'n_dependants',\n",
       "       'marital_status', 'income', '_merge'],\n",
       "      dtype='object')"
      ]
     },
     "execution_count": 20,
     "metadata": {},
     "output_type": "execute_result"
    }
   ],
   "source": [
    "# check columns after drop\n",
    "instacart_final.columns"
   ]
  },
  {
   "cell_type": "markdown",
   "id": "295d0bed-8c63-42a8-b215-82967b457ed7",
   "metadata": {},
   "source": [
    "# step 3: Create a regional segmentation of the data"
   ]
  },
  {
   "cell_type": "code",
   "execution_count": 22,
   "id": "cc78aa73-4dc6-4aef-96ae-609ca503ec88",
   "metadata": {},
   "outputs": [],
   "source": [
    "# setup region columns\n",
    "northeast_region = ['Connecticut', 'Maine', 'Massachusetts', 'New Hampshire', 'New Jersey', 'New York', 'Pennsylvania', 'Rhode Island', 'Vermont']"
   ]
  },
  {
   "cell_type": "code",
   "execution_count": 24,
   "id": "08e61312-3884-43b9-a184-1f4b42a26d23",
   "metadata": {},
   "outputs": [],
   "source": [
    "midwest_region = ['Wisconsin', 'Michigan', 'Illinois', 'Indiana', 'Ohio', 'North Dakota', 'South Dakota', 'Nebraska', 'Kansas', 'Minnesota', 'Iowa', 'Missouri']"
   ]
  },
  {
   "cell_type": "code",
   "execution_count": 26,
   "id": "76e66f10-6461-433d-add2-682ddfeb8509",
   "metadata": {},
   "outputs": [],
   "source": [
    "south_region = ['Delaware', 'Maryland', 'District of Columbia', 'Virginia', 'West Virginia', 'North Carolina', 'South Carolina', 'Georgia', 'Florida', 'Kentucky', 'Tennessee', 'Mississippi', 'Alabama', 'Oklahoma', 'Texas', 'Arkansas', 'Louisiana']"
   ]
  },
  {
   "cell_type": "code",
   "execution_count": 28,
   "id": "74248fbc-9556-447c-a85a-7b8a83bd7503",
   "metadata": {},
   "outputs": [],
   "source": [
    "west_region = ['Idaho', 'Montana', 'Wyoming', 'Nevada', 'Utah', 'Colorado', 'Arizona', 'New Mexico', 'Alaska', 'Washington', 'Oregon', 'California', 'Hawaii']"
   ]
  },
  {
   "cell_type": "code",
   "execution_count": 32,
   "id": "ac8cb136-37dc-45c9-b49f-6c5dd3cabda8",
   "metadata": {},
   "outputs": [],
   "source": [
    "# create a region columns\n",
    "instacart_final.loc[instacart_final['state'].isin(northeast_region), 'region'] = 'Northeast'"
   ]
  },
  {
   "cell_type": "code",
   "execution_count": 34,
   "id": "0524f93f-b6ed-428a-9f4d-8cae99aa8cc2",
   "metadata": {},
   "outputs": [],
   "source": [
    "instacart_final.loc[instacart_final['state'].isin(midwest_region), 'region'] = 'Midwest'"
   ]
  },
  {
   "cell_type": "code",
   "execution_count": 36,
   "id": "b1a92475-e1f3-45f7-b047-82f5b1c4daac",
   "metadata": {},
   "outputs": [],
   "source": [
    "instacart_final.loc[instacart_final['state'].isin(south_region), 'region'] = 'South'"
   ]
  },
  {
   "cell_type": "code",
   "execution_count": 38,
   "id": "b452c5b4-a024-4140-bff5-317f2780a1ce",
   "metadata": {},
   "outputs": [],
   "source": [
    "instacart_final.loc[instacart_final['state'].isin(west_region), 'region'] = 'West'"
   ]
  },
  {
   "cell_type": "code",
   "execution_count": 40,
   "id": "9b01c0ac-eb27-42f7-8f43-d4247871940e",
   "metadata": {},
   "outputs": [
    {
     "data": {
      "text/plain": [
       "region\n",
       "South        10791885\n",
       "West          8292913\n",
       "Midwest       7597325\n",
       "Northeast     5722736\n",
       "Name: count, dtype: int64"
      ]
     },
     "execution_count": 40,
     "metadata": {},
     "output_type": "execute_result"
    }
   ],
   "source": [
    "# checking region division\n",
    "instacart_final['region'].value_counts(dropna = False)"
   ]
  },
  {
   "cell_type": "code",
   "execution_count": 44,
   "id": "4af7c406-59f5-4aaf-a4bc-ea9d4d759578",
   "metadata": {},
   "outputs": [],
   "source": [
    "# Creating a crosstab between region and spender flag to compare spending habits in different U.S. regions\n",
    "region_spending_crosstab = pd.crosstab(instacart_final['region'], instacart_final['spender_flag'], dropna = False)"
   ]
  },
  {
   "cell_type": "code",
   "execution_count": 46,
   "id": "4657b659-7bca-458a-b961-c9e88f6b8498",
   "metadata": {},
   "outputs": [
    {
     "data": {
      "text/html": [
       "<div>\n",
       "<style scoped>\n",
       "    .dataframe tbody tr th:only-of-type {\n",
       "        vertical-align: middle;\n",
       "    }\n",
       "\n",
       "    .dataframe tbody tr th {\n",
       "        vertical-align: top;\n",
       "    }\n",
       "\n",
       "    .dataframe thead th {\n",
       "        text-align: right;\n",
       "    }\n",
       "</style>\n",
       "<table border=\"1\" class=\"dataframe\">\n",
       "  <thead>\n",
       "    <tr style=\"text-align: right;\">\n",
       "      <th>spender_flag</th>\n",
       "      <th>High spender</th>\n",
       "      <th>Low spender</th>\n",
       "    </tr>\n",
       "    <tr>\n",
       "      <th>region</th>\n",
       "      <th></th>\n",
       "      <th></th>\n",
       "    </tr>\n",
       "  </thead>\n",
       "  <tbody>\n",
       "    <tr>\n",
       "      <th>Midwest</th>\n",
       "      <td>155975</td>\n",
       "      <td>7441350</td>\n",
       "    </tr>\n",
       "    <tr>\n",
       "      <th>Northeast</th>\n",
       "      <td>108225</td>\n",
       "      <td>5614511</td>\n",
       "    </tr>\n",
       "    <tr>\n",
       "      <th>South</th>\n",
       "      <td>209691</td>\n",
       "      <td>10582194</td>\n",
       "    </tr>\n",
       "    <tr>\n",
       "      <th>West</th>\n",
       "      <td>160354</td>\n",
       "      <td>8132559</td>\n",
       "    </tr>\n",
       "  </tbody>\n",
       "</table>\n",
       "</div>"
      ],
      "text/plain": [
       "spender_flag  High spender  Low spender\n",
       "region                                 \n",
       "Midwest             155975      7441350\n",
       "Northeast           108225      5614511\n",
       "South               209691     10582194\n",
       "West                160354      8132559"
      ]
     },
     "execution_count": 46,
     "metadata": {},
     "output_type": "execute_result"
    }
   ],
   "source": [
    "# check the table\n",
    "region_spending_crosstab"
   ]
  },
  {
   "cell_type": "markdown",
   "id": "233efe68-defe-4c5b-b3b3-53e2c042149c",
   "metadata": {},
   "source": [
    "Spending habits are very similar between regions when looking at the proportions of customers in each region.\n",
    "The greatest proportion of 'High spender' customers was 2.10% in the South, whereas the lowest proportion of 'High spender' customers was 1.93%  in the northeast."
   ]
  },
  {
   "cell_type": "markdown",
   "id": "1c1f5424-fa25-4d5f-9798-78eb01597b28",
   "metadata": {},
   "source": [
    "# step 4: Create an exclusion flag for low-activity customers (customers with less than 5 orders) and exclude them from the data & export this sample."
   ]
  },
  {
   "cell_type": "code",
   "execution_count": 51,
   "id": "7ff74e19-b03c-498a-b4fd-d8c971864df5",
   "metadata": {},
   "outputs": [],
   "source": [
    "# exclude customers who has max order less than 5\n",
    "instacart_final.loc[instacart_final['max_order'] < 5, 'exclusion_flag'] = 'Exclude'"
   ]
  },
  {
   "cell_type": "code",
   "execution_count": 53,
   "id": "d52e71f1-900c-44e7-9d3d-a00b7522a4ee",
   "metadata": {},
   "outputs": [],
   "source": [
    "# keep customers whose max order greater than or equal to 5\n",
    "instacart_final.loc[instacart_final['max_order'] >= 5, 'exclusion_flag'] = 'Keep'"
   ]
  },
  {
   "cell_type": "code",
   "execution_count": 55,
   "id": "46d20848-4c21-4462-bde4-7c0a377099ba",
   "metadata": {},
   "outputs": [
    {
     "data": {
      "text/plain": [
       "exclusion_flag\n",
       "Keep       30964564\n",
       "Exclude     1440295\n",
       "Name: count, dtype: int64"
      ]
     },
     "execution_count": 55,
     "metadata": {},
     "output_type": "execute_result"
    }
   ],
   "source": [
    "# check exclusion flag frequency\n",
    "instacart_final['exclusion_flag'].value_counts(dropna = False)"
   ]
  },
  {
   "cell_type": "code",
   "execution_count": 57,
   "id": "36b3068b-2724-4bb5-93d5-a0467d495b79",
   "metadata": {},
   "outputs": [],
   "source": [
    "# Check exclusion flag using crosstab\n",
    "exclusion_flag_crosstab = pd.crosstab(instacart_final['exclusion_flag'], instacart_final['max_order'], dropna = False)"
   ]
  },
  {
   "cell_type": "code",
   "execution_count": 61,
   "id": "c9304d3a-1c85-411c-a3f1-f4a3133ff4b3",
   "metadata": {},
   "outputs": [],
   "source": [
    "# export for excel viewing\n",
    "exclusion_flag_crosstab.to_clipboard()"
   ]
  },
  {
   "cell_type": "code",
   "execution_count": 63,
   "id": "695115ab-6b0a-49ae-bda6-583393fd1fda",
   "metadata": {},
   "outputs": [
    {
     "data": {
      "text/html": [
       "<div>\n",
       "<style scoped>\n",
       "    .dataframe tbody tr th:only-of-type {\n",
       "        vertical-align: middle;\n",
       "    }\n",
       "\n",
       "    .dataframe tbody tr th {\n",
       "        vertical-align: top;\n",
       "    }\n",
       "\n",
       "    .dataframe thead th {\n",
       "        text-align: right;\n",
       "    }\n",
       "</style>\n",
       "<table border=\"1\" class=\"dataframe\">\n",
       "  <thead>\n",
       "    <tr style=\"text-align: right;\">\n",
       "      <th>max_order</th>\n",
       "      <th>1</th>\n",
       "      <th>2</th>\n",
       "      <th>3</th>\n",
       "      <th>4</th>\n",
       "      <th>5</th>\n",
       "      <th>6</th>\n",
       "      <th>7</th>\n",
       "      <th>8</th>\n",
       "      <th>9</th>\n",
       "      <th>10</th>\n",
       "      <th>...</th>\n",
       "      <th>90</th>\n",
       "      <th>91</th>\n",
       "      <th>92</th>\n",
       "      <th>93</th>\n",
       "      <th>94</th>\n",
       "      <th>95</th>\n",
       "      <th>96</th>\n",
       "      <th>97</th>\n",
       "      <th>98</th>\n",
       "      <th>99</th>\n",
       "    </tr>\n",
       "    <tr>\n",
       "      <th>exclusion_flag</th>\n",
       "      <th></th>\n",
       "      <th></th>\n",
       "      <th></th>\n",
       "      <th></th>\n",
       "      <th></th>\n",
       "      <th></th>\n",
       "      <th></th>\n",
       "      <th></th>\n",
       "      <th></th>\n",
       "      <th></th>\n",
       "      <th></th>\n",
       "      <th></th>\n",
       "      <th></th>\n",
       "      <th></th>\n",
       "      <th></th>\n",
       "      <th></th>\n",
       "      <th></th>\n",
       "      <th></th>\n",
       "      <th></th>\n",
       "      <th></th>\n",
       "      <th></th>\n",
       "    </tr>\n",
       "  </thead>\n",
       "  <tbody>\n",
       "    <tr>\n",
       "      <th>Exclude</th>\n",
       "      <td>5</td>\n",
       "      <td>6</td>\n",
       "      <td>686741</td>\n",
       "      <td>753543</td>\n",
       "      <td>0</td>\n",
       "      <td>0</td>\n",
       "      <td>0</td>\n",
       "      <td>0</td>\n",
       "      <td>0</td>\n",
       "      <td>0</td>\n",
       "      <td>...</td>\n",
       "      <td>0</td>\n",
       "      <td>0</td>\n",
       "      <td>0</td>\n",
       "      <td>0</td>\n",
       "      <td>0</td>\n",
       "      <td>0</td>\n",
       "      <td>0</td>\n",
       "      <td>0</td>\n",
       "      <td>0</td>\n",
       "      <td>0</td>\n",
       "    </tr>\n",
       "    <tr>\n",
       "      <th>Keep</th>\n",
       "      <td>0</td>\n",
       "      <td>0</td>\n",
       "      <td>0</td>\n",
       "      <td>0</td>\n",
       "      <td>793140</td>\n",
       "      <td>811396</td>\n",
       "      <td>803979</td>\n",
       "      <td>811843</td>\n",
       "      <td>810213</td>\n",
       "      <td>773124</td>\n",
       "      <td>...</td>\n",
       "      <td>48328</td>\n",
       "      <td>59378</td>\n",
       "      <td>55127</td>\n",
       "      <td>50333</td>\n",
       "      <td>52600</td>\n",
       "      <td>59877</td>\n",
       "      <td>40453</td>\n",
       "      <td>44949</td>\n",
       "      <td>44587</td>\n",
       "      <td>1171333</td>\n",
       "    </tr>\n",
       "  </tbody>\n",
       "</table>\n",
       "<p>2 rows × 99 columns</p>\n",
       "</div>"
      ],
      "text/plain": [
       "max_order       1   2       3       4       5       6       7       8   \\\n",
       "exclusion_flag                                                           \n",
       "Exclude          5   6  686741  753543       0       0       0       0   \n",
       "Keep             0   0       0       0  793140  811396  803979  811843   \n",
       "\n",
       "max_order           9       10  ...     90     91     92     93     94     95  \\\n",
       "exclusion_flag                  ...                                             \n",
       "Exclude              0       0  ...      0      0      0      0      0      0   \n",
       "Keep            810213  773124  ...  48328  59378  55127  50333  52600  59877   \n",
       "\n",
       "max_order          96     97     98       99  \n",
       "exclusion_flag                                \n",
       "Exclude             0      0      0        0  \n",
       "Keep            40453  44949  44587  1171333  \n",
       "\n",
       "[2 rows x 99 columns]"
      ]
     },
     "execution_count": 63,
     "metadata": {},
     "output_type": "execute_result"
    }
   ],
   "source": [
    "exclusion_flag_crosstab.head(10)"
   ]
  },
  {
   "cell_type": "markdown",
   "id": "f6016200-19f9-4818-8852-72af03a93497",
   "metadata": {},
   "source": [
    "exclusion flag is verified, all rows where max_order is less than 5 marked exclude else keep"
   ]
  },
  {
   "cell_type": "code",
   "execution_count": 65,
   "id": "d5c53b4e-deb5-467c-a7df-dc234904ba0d",
   "metadata": {},
   "outputs": [],
   "source": [
    "# Create sample without 'exclude' rows called ords_prods\n",
    "instacart_final = instacart_final[instacart_final['exclusion_flag'] == 'Keep']"
   ]
  },
  {
   "cell_type": "code",
   "execution_count": 67,
   "id": "f2914918-f15d-4d01-8615-d9a425340fe7",
   "metadata": {},
   "outputs": [
    {
     "data": {
      "text/plain": [
       "(30964564, 34)"
      ]
     },
     "execution_count": 67,
     "metadata": {},
     "output_type": "execute_result"
    }
   ],
   "source": [
    "instacart_final.shape"
   ]
  },
  {
   "cell_type": "markdown",
   "id": "61a1bde4-341f-4227-94f7-a2361de5a413",
   "metadata": {},
   "source": [
    "Since the number of rows in the dataset matches the frequency of \"Keep\" entries in the \"Exclusion_Flag\" column,\n",
    "we can confidently conclude that this sample contains only the relevant data, excluding any rows related to customers who have made fewer than 5 orders.\n",
    "This ensures that the dataset focuses solely on customers who are active users of the platform, providing a more accurate representation for analysis."
   ]
  },
  {
   "cell_type": "code",
   "execution_count": 69,
   "id": "75a53083-57b6-416d-96ff-dc6886a526cf",
   "metadata": {},
   "outputs": [],
   "source": [
    "# Export Sample\n",
    "instacart_final.to_pickle(os.path.join(path, '02 Data', 'Prepared Data', 'instacart_sample.pkl'))"
   ]
  },
  {
   "cell_type": "markdown",
   "id": "391a4ec3-deda-4aac-92b5-def381ad1704",
   "metadata": {},
   "source": [
    "# step 5: Create a profiling variable based on age, income, certain goods in the “department_id” column, and number of dependents, also use the “orders_day_of_week” and “order_hour_of_day” columns "
   ]
  },
  {
   "cell_type": "markdown",
   "id": "236ce9f9-0fd2-409c-8b2f-bf232f215bef",
   "metadata": {},
   "source": [
    "based on age, the age categories are subjective, but based on standard ranges. Young adult =< 25, Adult 25-45,Older Adult 45-65 Senior 65+"
   ]
  },
  {
   "cell_type": "code",
   "execution_count": 73,
   "id": "e5bb83a6-de72-45a5-b9b6-ca794f86ad2f",
   "metadata": {},
   "outputs": [
    {
     "name": "stderr",
     "output_type": "stream",
     "text": [
      "C:\\Users\\User\\AppData\\Local\\Temp\\ipykernel_9556\\4169663463.py:2: SettingWithCopyWarning: \n",
      "A value is trying to be set on a copy of a slice from a DataFrame.\n",
      "Try using .loc[row_indexer,col_indexer] = value instead\n",
      "\n",
      "See the caveats in the documentation: https://pandas.pydata.org/pandas-docs/stable/user_guide/indexing.html#returning-a-view-versus-a-copy\n",
      "  instacart_final.loc[instacart_final['age']<=25, 'age_group']='Young Adult'\n"
     ]
    }
   ],
   "source": [
    "# Creating age profiling variable\n",
    "instacart_final.loc[instacart_final['age']<=25, 'age_group']='Young Adult'"
   ]
  },
  {
   "cell_type": "code",
   "execution_count": 75,
   "id": "988f906f-71eb-4566-87e3-d8a8a220877e",
   "metadata": {},
   "outputs": [],
   "source": [
    "instacart_final.loc[(instacart_final['age']>25)&(instacart_final['age']<45), 'age_group']='Adult'"
   ]
  },
  {
   "cell_type": "code",
   "execution_count": 79,
   "id": "dcfcaecb-b512-4600-b1c8-36424cb85e61",
   "metadata": {},
   "outputs": [],
   "source": [
    "instacart_final.loc[(instacart_final['age']>=45)&(instacart_final['age']<65), 'age_group']='Older Adult'"
   ]
  },
  {
   "cell_type": "code",
   "execution_count": 81,
   "id": "f39ac1f1-1ba9-4190-b270-9140c1e610b3",
   "metadata": {},
   "outputs": [],
   "source": [
    "instacart_final.loc[instacart_final['age']>=65, 'age_group']='Senior'"
   ]
  },
  {
   "cell_type": "code",
   "execution_count": 83,
   "id": "e079f5c9-a337-4baa-9ceb-11a51d4f19df",
   "metadata": {},
   "outputs": [
    {
     "data": {
      "text/plain": [
       "age_group\n",
       "Older Adult    9690051\n",
       "Adult          9214451\n",
       "Senior         8195544\n",
       "Young Adult    3864518\n",
       "Name: count, dtype: int64"
      ]
     },
     "execution_count": 83,
     "metadata": {},
     "output_type": "execute_result"
    }
   ],
   "source": [
    "# Check frequency of age_group\n",
    "instacart_final['age_group'].value_counts(dropna = False)"
   ]
  },
  {
   "cell_type": "code",
   "execution_count": 85,
   "id": "26989b40-220e-46b6-a150-920c841945eb",
   "metadata": {},
   "outputs": [
    {
     "data": {
      "text/html": [
       "<div>\n",
       "<style scoped>\n",
       "    .dataframe tbody tr th:only-of-type {\n",
       "        vertical-align: middle;\n",
       "    }\n",
       "\n",
       "    .dataframe tbody tr th {\n",
       "        vertical-align: top;\n",
       "    }\n",
       "\n",
       "    .dataframe thead tr th {\n",
       "        text-align: left;\n",
       "    }\n",
       "\n",
       "    .dataframe thead tr:last-of-type th {\n",
       "        text-align: right;\n",
       "    }\n",
       "</style>\n",
       "<table border=\"1\" class=\"dataframe\">\n",
       "  <thead>\n",
       "    <tr>\n",
       "      <th></th>\n",
       "      <th colspan=\"3\" halign=\"left\">days_since_prior_order</th>\n",
       "    </tr>\n",
       "    <tr>\n",
       "      <th></th>\n",
       "      <th>mean</th>\n",
       "      <th>min</th>\n",
       "      <th>max</th>\n",
       "    </tr>\n",
       "    <tr>\n",
       "      <th>age_group</th>\n",
       "      <th></th>\n",
       "      <th></th>\n",
       "      <th></th>\n",
       "    </tr>\n",
       "  </thead>\n",
       "  <tbody>\n",
       "    <tr>\n",
       "      <th>Adult</th>\n",
       "      <td>10.815262</td>\n",
       "      <td>0.0</td>\n",
       "      <td>30.0</td>\n",
       "    </tr>\n",
       "    <tr>\n",
       "      <th>Older Adult</th>\n",
       "      <td>10.825714</td>\n",
       "      <td>0.0</td>\n",
       "      <td>30.0</td>\n",
       "    </tr>\n",
       "    <tr>\n",
       "      <th>Senior</th>\n",
       "      <td>10.791788</td>\n",
       "      <td>0.0</td>\n",
       "      <td>30.0</td>\n",
       "    </tr>\n",
       "    <tr>\n",
       "      <th>Young Adult</th>\n",
       "      <td>10.799071</td>\n",
       "      <td>0.0</td>\n",
       "      <td>30.0</td>\n",
       "    </tr>\n",
       "  </tbody>\n",
       "</table>\n",
       "</div>"
      ],
      "text/plain": [
       "            days_since_prior_order           \n",
       "                              mean  min   max\n",
       "age_group                                    \n",
       "Adult                    10.815262  0.0  30.0\n",
       "Older Adult              10.825714  0.0  30.0\n",
       "Senior                   10.791788  0.0  30.0\n",
       "Young Adult              10.799071  0.0  30.0"
      ]
     },
     "execution_count": 85,
     "metadata": {},
     "output_type": "execute_result"
    }
   ],
   "source": [
    "# Aggregate for age group usage frequency\n",
    "instacart_final.groupby('age_group').agg({'days_since_prior_order': ['mean', 'min', 'max']})"
   ]
  },
  {
   "cell_type": "code",
   "execution_count": 87,
   "id": "5397bf8a-2ae6-4ff1-8166-aa463a6b230c",
   "metadata": {},
   "outputs": [
    {
     "data": {
      "text/html": [
       "<div>\n",
       "<style scoped>\n",
       "    .dataframe tbody tr th:only-of-type {\n",
       "        vertical-align: middle;\n",
       "    }\n",
       "\n",
       "    .dataframe tbody tr th {\n",
       "        vertical-align: top;\n",
       "    }\n",
       "\n",
       "    .dataframe thead tr th {\n",
       "        text-align: left;\n",
       "    }\n",
       "\n",
       "    .dataframe thead tr:last-of-type th {\n",
       "        text-align: right;\n",
       "    }\n",
       "</style>\n",
       "<table border=\"1\" class=\"dataframe\">\n",
       "  <thead>\n",
       "    <tr>\n",
       "      <th></th>\n",
       "      <th colspan=\"3\" halign=\"left\">prices</th>\n",
       "    </tr>\n",
       "    <tr>\n",
       "      <th></th>\n",
       "      <th>mean</th>\n",
       "      <th>min</th>\n",
       "      <th>max</th>\n",
       "    </tr>\n",
       "    <tr>\n",
       "      <th>age_group</th>\n",
       "      <th></th>\n",
       "      <th></th>\n",
       "      <th></th>\n",
       "    </tr>\n",
       "  </thead>\n",
       "  <tbody>\n",
       "    <tr>\n",
       "      <th>Adult</th>\n",
       "      <td>11.786432</td>\n",
       "      <td>1.0</td>\n",
       "      <td>99999.0</td>\n",
       "    </tr>\n",
       "    <tr>\n",
       "      <th>Older Adult</th>\n",
       "      <td>12.112030</td>\n",
       "      <td>1.0</td>\n",
       "      <td>99999.0</td>\n",
       "    </tr>\n",
       "    <tr>\n",
       "      <th>Senior</th>\n",
       "      <td>11.757768</td>\n",
       "      <td>1.0</td>\n",
       "      <td>99999.0</td>\n",
       "    </tr>\n",
       "    <tr>\n",
       "      <th>Young Adult</th>\n",
       "      <td>12.209359</td>\n",
       "      <td>1.0</td>\n",
       "      <td>99999.0</td>\n",
       "    </tr>\n",
       "  </tbody>\n",
       "</table>\n",
       "</div>"
      ],
      "text/plain": [
       "                prices              \n",
       "                  mean  min      max\n",
       "age_group                           \n",
       "Adult        11.786432  1.0  99999.0\n",
       "Older Adult  12.112030  1.0  99999.0\n",
       "Senior       11.757768  1.0  99999.0\n",
       "Young Adult  12.209359  1.0  99999.0"
      ]
     },
     "execution_count": 87,
     "metadata": {},
     "output_type": "execute_result"
    }
   ],
   "source": [
    "# Aggregate for age group expenditure\n",
    "instacart_final.groupby('age_group').agg({'prices': ['mean', 'min', 'max']})"
   ]
  },
  {
   "cell_type": "code",
   "execution_count": 97,
   "id": "4a401b59-f828-40c3-b78a-f3993d5be9af",
   "metadata": {},
   "outputs": [
    {
     "data": {
      "image/png": "[encoded data removed]",
      "text/plain": [
       "<Figure size 640x480 with 1 Axes>"
      ]
     },
     "metadata": {},
     "output_type": "display_data"
    }
   ],
   "source": [
    "# Age profile visualization\n",
    "bar=instacart_final['age_group'].value_counts().plot.bar(color =['red', 'green', 'yellow', 'purple'])"
   ]
  },
  {
   "cell_type": "code",
   "execution_count": 103,
   "id": "baec82e9-f557-40c4-aabf-5889c5071861",
   "metadata": {},
   "outputs": [],
   "source": [
    "# export the figure\n",
    "bar.figure.savefig(os.path.join(path, '04 Analysis','Visualizations', 'bar_agegroup.png'))"
   ]
  },
  {
   "cell_type": "markdown",
   "id": "4c3cdae0-babd-4563-8ab4-c134bc1eac07",
   "metadata": {},
   "source": [
    "Income: Categorize customers into income categories: low, middle, & high income groups based on standard considerations of US incomes"
   ]
  },
  {
   "cell_type": "code",
   "execution_count": 105,
   "id": "56cf9bfb-2c44-46cb-9b11-442ca7b25f59",
   "metadata": {},
   "outputs": [],
   "source": [
    "instacart_final.loc[instacart_final['income'] <= 50000, 'income_group'] = 'Low'"
   ]
  },
  {
   "cell_type": "code",
   "execution_count": 107,
   "id": "7bf53e13-690c-479f-9dca-27353ab3987e",
   "metadata": {},
   "outputs": [],
   "source": [
    "instacart_final.loc[(instacart_final['income'] > 50000) & (instacart_final['income'] <= 100000), 'income_group'] = 'Middle'"
   ]
  },
  {
   "cell_type": "code",
   "execution_count": 109,
   "id": "c6caf7f5-0e27-4856-8e9b-2ba8446722d0",
   "metadata": {},
   "outputs": [],
   "source": [
    "instacart_final.loc[instacart_final['income'] > 100000, 'income_group'] = 'High'"
   ]
  },
  {
   "cell_type": "code",
   "execution_count": 111,
   "id": "f46a85c0-a715-44f0-a495-93ae6ae8002e",
   "metadata": {},
   "outputs": [
    {
     "data": {
      "text/plain": [
       "income_group\n",
       "High      14207028\n",
       "Middle    13394982\n",
       "Low        3362554\n",
       "Name: count, dtype: int64"
      ]
     },
     "execution_count": 111,
     "metadata": {},
     "output_type": "execute_result"
    }
   ],
   "source": [
    "# Check frequency of income_group\n",
    "instacart_final['income_group'].value_counts(dropna = False)"
   ]
  },
  {
   "cell_type": "code",
   "execution_count": 113,
   "id": "b8104910-8ad8-4695-b839-d257a988e6d9",
   "metadata": {},
   "outputs": [
    {
     "data": {
      "text/html": [
       "<div>\n",
       "<style scoped>\n",
       "    .dataframe tbody tr th:only-of-type {\n",
       "        vertical-align: middle;\n",
       "    }\n",
       "\n",
       "    .dataframe tbody tr th {\n",
       "        vertical-align: top;\n",
       "    }\n",
       "\n",
       "    .dataframe thead tr th {\n",
       "        text-align: left;\n",
       "    }\n",
       "\n",
       "    .dataframe thead tr:last-of-type th {\n",
       "        text-align: right;\n",
       "    }\n",
       "</style>\n",
       "<table border=\"1\" class=\"dataframe\">\n",
       "  <thead>\n",
       "    <tr>\n",
       "      <th></th>\n",
       "      <th colspan=\"3\" halign=\"left\">days_since_prior_order</th>\n",
       "    </tr>\n",
       "    <tr>\n",
       "      <th></th>\n",
       "      <th>mean</th>\n",
       "      <th>min</th>\n",
       "      <th>max</th>\n",
       "    </tr>\n",
       "    <tr>\n",
       "      <th>income_group</th>\n",
       "      <th></th>\n",
       "      <th></th>\n",
       "      <th></th>\n",
       "    </tr>\n",
       "  </thead>\n",
       "  <tbody>\n",
       "    <tr>\n",
       "      <th>High</th>\n",
       "      <td>10.769663</td>\n",
       "      <td>0.0</td>\n",
       "      <td>30.0</td>\n",
       "    </tr>\n",
       "    <tr>\n",
       "      <th>Low</th>\n",
       "      <td>11.175808</td>\n",
       "      <td>0.0</td>\n",
       "      <td>30.0</td>\n",
       "    </tr>\n",
       "    <tr>\n",
       "      <th>Middle</th>\n",
       "      <td>10.762110</td>\n",
       "      <td>0.0</td>\n",
       "      <td>30.0</td>\n",
       "    </tr>\n",
       "  </tbody>\n",
       "</table>\n",
       "</div>"
      ],
      "text/plain": [
       "             days_since_prior_order           \n",
       "                               mean  min   max\n",
       "income_group                                  \n",
       "High                      10.769663  0.0  30.0\n",
       "Low                       11.175808  0.0  30.0\n",
       "Middle                    10.762110  0.0  30.0"
      ]
     },
     "execution_count": 113,
     "metadata": {},
     "output_type": "execute_result"
    }
   ],
   "source": [
    "# Aggregate for income group order frequency\n",
    "instacart_final.groupby('income_group').agg({'days_since_prior_order': ['mean', 'min', 'max']})"
   ]
  },
  {
   "cell_type": "code",
   "execution_count": 115,
   "id": "02b41072-2a30-44b4-b982-7b06a5cb798d",
   "metadata": {},
   "outputs": [
    {
     "data": {
      "text/html": [
       "<div>\n",
       "<style scoped>\n",
       "    .dataframe tbody tr th:only-of-type {\n",
       "        vertical-align: middle;\n",
       "    }\n",
       "\n",
       "    .dataframe tbody tr th {\n",
       "        vertical-align: top;\n",
       "    }\n",
       "\n",
       "    .dataframe thead tr th {\n",
       "        text-align: left;\n",
       "    }\n",
       "\n",
       "    .dataframe thead tr:last-of-type th {\n",
       "        text-align: right;\n",
       "    }\n",
       "</style>\n",
       "<table border=\"1\" class=\"dataframe\">\n",
       "  <thead>\n",
       "    <tr>\n",
       "      <th></th>\n",
       "      <th colspan=\"3\" halign=\"left\">prices</th>\n",
       "    </tr>\n",
       "    <tr>\n",
       "      <th></th>\n",
       "      <th>mean</th>\n",
       "      <th>min</th>\n",
       "      <th>max</th>\n",
       "    </tr>\n",
       "    <tr>\n",
       "      <th>income_group</th>\n",
       "      <th></th>\n",
       "      <th></th>\n",
       "      <th></th>\n",
       "    </tr>\n",
       "  </thead>\n",
       "  <tbody>\n",
       "    <tr>\n",
       "      <th>High</th>\n",
       "      <td>16.461733</td>\n",
       "      <td>1.0</td>\n",
       "      <td>99999.0</td>\n",
       "    </tr>\n",
       "    <tr>\n",
       "      <th>Low</th>\n",
       "      <td>6.707347</td>\n",
       "      <td>1.0</td>\n",
       "      <td>25.0</td>\n",
       "    </tr>\n",
       "    <tr>\n",
       "      <th>Middle</th>\n",
       "      <td>8.442726</td>\n",
       "      <td>1.0</td>\n",
       "      <td>99999.0</td>\n",
       "    </tr>\n",
       "  </tbody>\n",
       "</table>\n",
       "</div>"
      ],
      "text/plain": [
       "                 prices              \n",
       "                   mean  min      max\n",
       "income_group                         \n",
       "High          16.461733  1.0  99999.0\n",
       "Low            6.707347  1.0     25.0\n",
       "Middle         8.442726  1.0  99999.0"
      ]
     },
     "execution_count": 115,
     "metadata": {},
     "output_type": "execute_result"
    }
   ],
   "source": [
    "# Aggregate for income group expenditure\n",
    "instacart_final.groupby('income_group').agg({'prices': ['mean', 'min', 'max']})"
   ]
  },
  {
   "cell_type": "code",
   "execution_count": 117,
   "id": "be97901f-2395-4b87-aabd-6fc35fc659fd",
   "metadata": {},
   "outputs": [
    {
     "data": {
      "image/png": "[encoded data removed]",
      "text/plain": [
       "<Figure size 640x480 with 1 Axes>"
      ]
     },
     "metadata": {},
     "output_type": "display_data"
    }
   ],
   "source": [
    "# Income profile visualization\n",
    "bar_2 = instacart_final['income_group'].value_counts().sort_values().plot.bar()"
   ]
  },
  {
   "cell_type": "code",
   "execution_count": 119,
   "id": "b106ac53-b32c-4a2b-8d7a-9440ea22598e",
   "metadata": {},
   "outputs": [],
   "source": [
    "# Export Bar Chart \n",
    "bar_2.figure.savefig(os.path.join(path, '04 Analysis','Visualizations', 'bar_incomegroup.png'))"
   ]
  },
  {
   "cell_type": "markdown",
   "id": "49625f4d-f40f-49f8-8aa5-87a96825c3c6",
   "metadata": {},
   "source": [
    "Number of Dependants: Divide data into customers with dependents and customers without dependents"
   ]
  },
  {
   "cell_type": "code",
   "execution_count": 123,
   "id": "5e006f6b-c99a-4330-9148-c9a4a4a32e10",
   "metadata": {},
   "outputs": [],
   "source": [
    "instacart_final.loc[instacart_final['n_dependants'] == 0, 'dependants_flag'] = 'No Dependants'"
   ]
  },
  {
   "cell_type": "code",
   "execution_count": 125,
   "id": "6311d932-2149-4e83-b38f-8b57e76d03ea",
   "metadata": {},
   "outputs": [],
   "source": [
    "instacart_final.loc[instacart_final['n_dependants'] > 0, 'dependants_flag'] = 'Has Dependants'"
   ]
  },
  {
   "cell_type": "code",
   "execution_count": 127,
   "id": "27945144-49bf-4c01-aff6-1719249b14f7",
   "metadata": {},
   "outputs": [
    {
     "data": {
      "text/plain": [
       "dependants_flag\n",
       "Has Dependants    23224883\n",
       "No Dependants      7739681\n",
       "Name: count, dtype: int64"
      ]
     },
     "execution_count": 127,
     "metadata": {},
     "output_type": "execute_result"
    }
   ],
   "source": [
    "#Check data\n",
    "instacart_final['dependants_flag'].value_counts(dropna = False)"
   ]
  },
  {
   "cell_type": "code",
   "execution_count": 129,
   "id": "e465ada6-8c97-4991-bec9-6bec6d53b5a2",
   "metadata": {},
   "outputs": [
    {
     "data": {
      "text/html": [
       "<div>\n",
       "<style scoped>\n",
       "    .dataframe tbody tr th:only-of-type {\n",
       "        vertical-align: middle;\n",
       "    }\n",
       "\n",
       "    .dataframe tbody tr th {\n",
       "        vertical-align: top;\n",
       "    }\n",
       "\n",
       "    .dataframe thead tr th {\n",
       "        text-align: left;\n",
       "    }\n",
       "\n",
       "    .dataframe thead tr:last-of-type th {\n",
       "        text-align: right;\n",
       "    }\n",
       "</style>\n",
       "<table border=\"1\" class=\"dataframe\">\n",
       "  <thead>\n",
       "    <tr>\n",
       "      <th></th>\n",
       "      <th colspan=\"3\" halign=\"left\">days_since_prior_order</th>\n",
       "    </tr>\n",
       "    <tr>\n",
       "      <th></th>\n",
       "      <th>mean</th>\n",
       "      <th>min</th>\n",
       "      <th>max</th>\n",
       "    </tr>\n",
       "    <tr>\n",
       "      <th>dependants_flag</th>\n",
       "      <th></th>\n",
       "      <th></th>\n",
       "      <th></th>\n",
       "    </tr>\n",
       "  </thead>\n",
       "  <tbody>\n",
       "    <tr>\n",
       "      <th>Has Dependants</th>\n",
       "      <td>10.816416</td>\n",
       "      <td>0.0</td>\n",
       "      <td>30.0</td>\n",
       "    </tr>\n",
       "    <tr>\n",
       "      <th>No Dependants</th>\n",
       "      <td>10.791951</td>\n",
       "      <td>0.0</td>\n",
       "      <td>30.0</td>\n",
       "    </tr>\n",
       "  </tbody>\n",
       "</table>\n",
       "</div>"
      ],
      "text/plain": [
       "                days_since_prior_order           \n",
       "                                  mean  min   max\n",
       "dependants_flag                                  \n",
       "Has Dependants               10.816416  0.0  30.0\n",
       "No Dependants                10.791951  0.0  30.0"
      ]
     },
     "execution_count": 129,
     "metadata": {},
     "output_type": "execute_result"
    }
   ],
   "source": [
    "# Aggregate for dependent group order frequency\n",
    "instacart_final.groupby('dependants_flag').agg({'days_since_prior_order': ['mean', 'min', 'max']})"
   ]
  },
  {
   "cell_type": "code",
   "execution_count": 131,
   "id": "63515dde-608c-46b7-97d9-d1b24fb842e9",
   "metadata": {},
   "outputs": [
    {
     "data": {
      "text/html": [
       "<div>\n",
       "<style scoped>\n",
       "    .dataframe tbody tr th:only-of-type {\n",
       "        vertical-align: middle;\n",
       "    }\n",
       "\n",
       "    .dataframe tbody tr th {\n",
       "        vertical-align: top;\n",
       "    }\n",
       "\n",
       "    .dataframe thead tr th {\n",
       "        text-align: left;\n",
       "    }\n",
       "\n",
       "    .dataframe thead tr:last-of-type th {\n",
       "        text-align: right;\n",
       "    }\n",
       "</style>\n",
       "<table border=\"1\" class=\"dataframe\">\n",
       "  <thead>\n",
       "    <tr>\n",
       "      <th></th>\n",
       "      <th colspan=\"3\" halign=\"left\">prices</th>\n",
       "    </tr>\n",
       "    <tr>\n",
       "      <th></th>\n",
       "      <th>mean</th>\n",
       "      <th>min</th>\n",
       "      <th>max</th>\n",
       "    </tr>\n",
       "    <tr>\n",
       "      <th>dependants_flag</th>\n",
       "      <th></th>\n",
       "      <th></th>\n",
       "      <th></th>\n",
       "    </tr>\n",
       "  </thead>\n",
       "  <tbody>\n",
       "    <tr>\n",
       "      <th>Has Dependants</th>\n",
       "      <td>11.877157</td>\n",
       "      <td>1.0</td>\n",
       "      <td>99999.0</td>\n",
       "    </tr>\n",
       "    <tr>\n",
       "      <th>No Dependants</th>\n",
       "      <td>12.102657</td>\n",
       "      <td>1.0</td>\n",
       "      <td>99999.0</td>\n",
       "    </tr>\n",
       "  </tbody>\n",
       "</table>\n",
       "</div>"
      ],
      "text/plain": [
       "                    prices              \n",
       "                      mean  min      max\n",
       "dependants_flag                         \n",
       "Has Dependants   11.877157  1.0  99999.0\n",
       "No Dependants    12.102657  1.0  99999.0"
      ]
     },
     "execution_count": 131,
     "metadata": {},
     "output_type": "execute_result"
    }
   ],
   "source": [
    "# Aggregate for dependent group expenditure\n",
    "instacart_final.groupby('dependants_flag').agg({'prices': ['mean', 'min', 'max']})"
   ]
  },
  {
   "cell_type": "code",
   "execution_count": 133,
   "id": "07bd726b-abb4-4e97-9c8b-6dfe9d1b800d",
   "metadata": {},
   "outputs": [
    {
     "data": {
      "image/png": "[encoded data removed]",
      "text/plain": [
       "<Figure size 640x480 with 1 Axes>"
      ]
     },
     "metadata": {},
     "output_type": "display_data"
    }
   ],
   "source": [
    "# Number of dependent group profile visualization\n",
    "bar_3 = instacart_final['dependants_flag'].value_counts().sort_values().plot.bar()"
   ]
  },
  {
   "cell_type": "code",
   "execution_count": 135,
   "id": "ca76448b-de10-405f-8f6d-5fb2b73ad142",
   "metadata": {},
   "outputs": [],
   "source": [
    "# Export Bar Chart\n",
    "bar_3.figure.savefig(os.path.join(path, '04 Analysis','Visualizations', 'bar_dependentgroup.png'))"
   ]
  },
  {
   "cell_type": "markdown",
   "id": "cfa4c86f-40c0-4a86-b6aa-c8ad79bddb5e",
   "metadata": {},
   "source": [
    "# step 6: Visualizations to show distributions of profiles"
   ]
  },
  {
   "cell_type": "code",
   "execution_count": 139,
   "id": "5e07b649-2047-4cc8-8deb-dabfa9c46f09",
   "metadata": {},
   "outputs": [],
   "source": [
    "# Create a different table and take relevant columns\n",
    "group_table = instacart_final[['user_id', 'age_group', 'income_group', 'dependants_flag', 'region', 'loyalty_flag']]"
   ]
  },
  {
   "cell_type": "code",
   "execution_count": 141,
   "id": "ab3a6f99-d26c-4e01-b03d-7d930b90d2e1",
   "metadata": {},
   "outputs": [
    {
     "data": {
      "text/html": [
       "<div>\n",
       "<style scoped>\n",
       "    .dataframe tbody tr th:only-of-type {\n",
       "        vertical-align: middle;\n",
       "    }\n",
       "\n",
       "    .dataframe tbody tr th {\n",
       "        vertical-align: top;\n",
       "    }\n",
       "\n",
       "    .dataframe thead th {\n",
       "        text-align: right;\n",
       "    }\n",
       "</style>\n",
       "<table border=\"1\" class=\"dataframe\">\n",
       "  <thead>\n",
       "    <tr style=\"text-align: right;\">\n",
       "      <th></th>\n",
       "      <th>user_id</th>\n",
       "      <th>age_group</th>\n",
       "      <th>income_group</th>\n",
       "      <th>dependants_flag</th>\n",
       "      <th>region</th>\n",
       "      <th>loyalty_flag</th>\n",
       "    </tr>\n",
       "  </thead>\n",
       "  <tbody>\n",
       "    <tr>\n",
       "      <th>0</th>\n",
       "      <td>138</td>\n",
       "      <td>Senior</td>\n",
       "      <td>Low</td>\n",
       "      <td>Has Dependants</td>\n",
       "      <td>Midwest</td>\n",
       "      <td>Regular customer</td>\n",
       "    </tr>\n",
       "    <tr>\n",
       "      <th>1</th>\n",
       "      <td>138</td>\n",
       "      <td>Senior</td>\n",
       "      <td>Low</td>\n",
       "      <td>Has Dependants</td>\n",
       "      <td>Midwest</td>\n",
       "      <td>Regular customer</td>\n",
       "    </tr>\n",
       "    <tr>\n",
       "      <th>2</th>\n",
       "      <td>709</td>\n",
       "      <td>Senior</td>\n",
       "      <td>High</td>\n",
       "      <td>Has Dependants</td>\n",
       "      <td>Northeast</td>\n",
       "      <td>New customer</td>\n",
       "    </tr>\n",
       "    <tr>\n",
       "      <th>5</th>\n",
       "      <td>777</td>\n",
       "      <td>Older Adult</td>\n",
       "      <td>Middle</td>\n",
       "      <td>Has Dependants</td>\n",
       "      <td>West</td>\n",
       "      <td>Regular customer</td>\n",
       "    </tr>\n",
       "    <tr>\n",
       "      <th>6</th>\n",
       "      <td>825</td>\n",
       "      <td>Young Adult</td>\n",
       "      <td>Low</td>\n",
       "      <td>Has Dependants</td>\n",
       "      <td>South</td>\n",
       "      <td>New customer</td>\n",
       "    </tr>\n",
       "    <tr>\n",
       "      <th>7</th>\n",
       "      <td>910</td>\n",
       "      <td>Senior</td>\n",
       "      <td>Low</td>\n",
       "      <td>No Dependants</td>\n",
       "      <td>South</td>\n",
       "      <td>Regular customer</td>\n",
       "    </tr>\n",
       "    <tr>\n",
       "      <th>8</th>\n",
       "      <td>1052</td>\n",
       "      <td>Senior</td>\n",
       "      <td>High</td>\n",
       "      <td>Has Dependants</td>\n",
       "      <td>West</td>\n",
       "      <td>Regular customer</td>\n",
       "    </tr>\n",
       "    <tr>\n",
       "      <th>9</th>\n",
       "      <td>1052</td>\n",
       "      <td>Senior</td>\n",
       "      <td>High</td>\n",
       "      <td>Has Dependants</td>\n",
       "      <td>West</td>\n",
       "      <td>Regular customer</td>\n",
       "    </tr>\n",
       "    <tr>\n",
       "      <th>10</th>\n",
       "      <td>1379</td>\n",
       "      <td>Older Adult</td>\n",
       "      <td>Low</td>\n",
       "      <td>Has Dependants</td>\n",
       "      <td>West</td>\n",
       "      <td>New customer</td>\n",
       "    </tr>\n",
       "    <tr>\n",
       "      <th>11</th>\n",
       "      <td>1480</td>\n",
       "      <td>Young Adult</td>\n",
       "      <td>Low</td>\n",
       "      <td>Has Dependants</td>\n",
       "      <td>South</td>\n",
       "      <td>Loyal customer</td>\n",
       "    </tr>\n",
       "  </tbody>\n",
       "</table>\n",
       "</div>"
      ],
      "text/plain": [
       "   user_id    age_group income_group dependants_flag     region  \\\n",
       "0      138       Senior          Low  Has Dependants    Midwest   \n",
       "1      138       Senior          Low  Has Dependants    Midwest   \n",
       "2      709       Senior         High  Has Dependants  Northeast   \n",
       "5      777  Older Adult       Middle  Has Dependants       West   \n",
       "6      825  Young Adult          Low  Has Dependants      South   \n",
       "7      910       Senior          Low   No Dependants      South   \n",
       "8     1052       Senior         High  Has Dependants       West   \n",
       "9     1052       Senior         High  Has Dependants       West   \n",
       "10    1379  Older Adult          Low  Has Dependants       West   \n",
       "11    1480  Young Adult          Low  Has Dependants      South   \n",
       "\n",
       "        loyalty_flag  \n",
       "0   Regular customer  \n",
       "1   Regular customer  \n",
       "2       New customer  \n",
       "5   Regular customer  \n",
       "6       New customer  \n",
       "7   Regular customer  \n",
       "8   Regular customer  \n",
       "9   Regular customer  \n",
       "10      New customer  \n",
       "11    Loyal customer  "
      ]
     },
     "execution_count": 141,
     "metadata": {},
     "output_type": "execute_result"
    }
   ],
   "source": [
    "group_table.head(10)"
   ]
  },
  {
   "cell_type": "code",
   "execution_count": 143,
   "id": "f9526782-c839-49f0-863d-834aef315b26",
   "metadata": {},
   "outputs": [],
   "source": [
    "# Create age_group counts table\n",
    "age_group_counts = group_table['age_group'].value_counts()"
   ]
  },
  {
   "cell_type": "code",
   "execution_count": 149,
   "id": "9d5d898b-2093-4fe9-bbc8-34a5f6cb8c58",
   "metadata": {},
   "outputs": [
    {
     "data": {
      "text/plain": [
       "Text(0.5, 1.0, 'Instacart Distribution of Customers by Age Group')"
      ]
     },
     "execution_count": 149,
     "metadata": {},
     "output_type": "execute_result"
    },
    {
     "data": {
      "image/png": "[encoded data removed]",
      "text/plain": [
       "<Figure size 600x600 with 1 Axes>"
      ]
     },
     "metadata": {},
     "output_type": "display_data"
    }
   ],
   "source": [
    "# Pie Chart\n",
    "plt.figure(figsize=(6, 6))\n",
    "plt.pie(age_group_counts,\n",
    "labels = age_group_counts.index,\n",
    "autopct='%.1f%%',\n",
    "colors = ['blue', 'red', 'green', 'yellow'],\n",
    "wedgeprops = {'edgecolor' : 'black'})\n",
    "plt.title('Instacart Distribution of Customers by Age Group')"
   ]
  },
  {
   "cell_type": "code",
   "execution_count": 151,
   "id": "50d3f883-aab9-45b5-910f-c817cebed662",
   "metadata": {},
   "outputs": [
    {
     "data": {
      "text/plain": [
       "<Figure size 640x480 with 0 Axes>"
      ]
     },
     "metadata": {},
     "output_type": "display_data"
    }
   ],
   "source": [
    "# export pie chart\n",
    "plt.savefig(os.path.join(path, '04 Analysis', 'Visualizations', 'customers_age_groups_pie.png'), bbox_inches = 'tight') "
   ]
  },
  {
   "cell_type": "code",
   "execution_count": 153,
   "id": "8c5aaf3d-e205-4b21-8865-03b76fbf8dfb",
   "metadata": {},
   "outputs": [],
   "source": [
    "# Create a table of income_group counts\n",
    "income_group_counts = group_table['income_group'].value_counts()"
   ]
  },
  {
   "cell_type": "code",
   "execution_count": 163,
   "id": "15aae91f-3f9a-443a-9828-6302f3074fe6",
   "metadata": {},
   "outputs": [
    {
     "data": {
      "text/plain": [
       "Text(0.5, 1.0, 'Instacart Distribution of Customers by Income Group')"
      ]
     },
     "execution_count": 163,
     "metadata": {},
     "output_type": "execute_result"
    },
    {
     "data": {
      "image/png": "[encoded data removed]",
      "text/plain": [
       "<Figure size 640x480 with 1 Axes>"
      ]
     },
     "metadata": {},
     "output_type": "display_data"
    }
   ],
   "source": [
    "plt.pie(income_group_counts,\n",
    "labels = income_group_counts.index,\n",
    "autopct='%.1f%%',\n",
    "colors = ['pink', 'purple', 'grey'],\n",
    "wedgeprops = {'edgecolor' : 'black'})\n",
    "plt.title('Instacart Distribution of Customers by Income Group')"
   ]
  },
  {
   "cell_type": "code",
   "execution_count": 165,
   "id": "328b671e-e524-40a9-89de-bb80cca5782f",
   "metadata": {},
   "outputs": [
    {
     "data": {
      "text/plain": [
       "<Figure size 640x480 with 0 Axes>"
      ]
     },
     "metadata": {},
     "output_type": "display_data"
    }
   ],
   "source": [
    "# export figure\n",
    "plt.savefig(os.path.join(path, '04 Analysis', 'Visualizations', 'customers_income_groups_pie.png'), bbox_inches = 'tight')"
   ]
  },
  {
   "cell_type": "code",
   "execution_count": 167,
   "id": "bd15f7d6-aaf8-46e0-81ce-b387f614b6fd",
   "metadata": {},
   "outputs": [],
   "source": [
    "# create a table of dependents_flag counts\n",
    "dependants_flag_counts = group_table['dependants_flag'].value_counts()"
   ]
  },
  {
   "cell_type": "code",
   "execution_count": 175,
   "id": "488f1e41-7fc4-453b-b579-870c170cc0dd",
   "metadata": {},
   "outputs": [
    {
     "data": {
      "text/plain": [
       "Text(0.5, 1.0, 'Instacart Customers with Dependents vs without Dependents')"
      ]
     },
     "execution_count": 175,
     "metadata": {},
     "output_type": "execute_result"
    },
    {
     "data": {
      "image/png": "[encoded data removed]",
      "text/plain": [
       "<Figure size 600x600 with 1 Axes>"
      ]
     },
     "metadata": {},
     "output_type": "display_data"
    }
   ],
   "source": [
    "# Pie chart\n",
    "plt.figure(figsize=(6, 6)),\n",
    "plt.pie(dependants_flag_counts,\n",
    "labels = dependants_flag_counts.index,\n",
    "autopct='%.1f%%',\n",
    "colors = ['green', 'yellow'],\n",
    "wedgeprops = {'edgecolor' : 'black'})\n",
    "plt.title('Instacart Customers with Dependents vs without Dependents')"
   ]
  },
  {
   "cell_type": "code",
   "execution_count": 177,
   "id": "9c85ab4f-9e97-4bef-8263-c1ce090e6503",
   "metadata": {},
   "outputs": [
    {
     "data": {
      "text/plain": [
       "<Figure size 640x480 with 0 Axes>"
      ]
     },
     "metadata": {},
     "output_type": "display_data"
    }
   ],
   "source": [
    "# export figure\n",
    "plt.savefig(os.path.join(path, '04 Analysis', 'Visualizations', 'customers_dependants_pie.png'), bbox_inches = 'tight')"
   ]
  },
  {
   "cell_type": "markdown",
   "id": "0caa835e-87ca-4196-814d-d3ba281da5c0",
   "metadata": {},
   "source": [
    "Usage frequency is analyzed based on days since prior order & expenditure based on prices columns.\n",
    "For accuracy, aggregate the data from the instacart DataFrame so that each row represents a single order.\n",
    "This approach prevents averages from being skewed by customer orders comprising many items."
   ]
  },
  {
   "cell_type": "markdown",
   "id": "3807ce89-53e9-4c5c-9a4a-0cb03a8d3363",
   "metadata": {},
   "source": [
    "# step 7: Aggregate the max, mean, and min variables on a customer-profile level for usage frequency and expenditure."
   ]
  },
  {
   "cell_type": "code",
   "execution_count": 179,
   "id": "15e2ab4f-bad7-409c-9469-540aabe24aa5",
   "metadata": {},
   "outputs": [],
   "source": [
    "# An aggregated subset of data with 'prices' column as the total cost of each order\n",
    "orders_subset = instacart_final.groupby(['user_id', 'age_group', 'income_group', 'dependants_flag', 'loyalty_flag', 'region', 'order_number', 'days_since_prior_order'])['prices'].sum().reset_index()"
   ]
  },
  {
   "cell_type": "code",
   "execution_count": 183,
   "id": "2c9913fa-8252-446a-a872-f37bd1fba545",
   "metadata": {},
   "outputs": [],
   "source": [
    "# max, min, mean by age category\n",
    "agg_age = orders_subset.groupby('age_group').agg({'days_since_prior_order' : ['min', 'mean', 'max'], 'prices' : ['min', 'mean', 'max']})"
   ]
  },
  {
   "cell_type": "code",
   "execution_count": 185,
   "id": "2d4e7350-ff1a-452b-9b50-35e784f0f16a",
   "metadata": {},
   "outputs": [
    {
     "data": {
      "text/html": [
       "<div>\n",
       "<style scoped>\n",
       "    .dataframe tbody tr th:only-of-type {\n",
       "        vertical-align: middle;\n",
       "    }\n",
       "\n",
       "    .dataframe tbody tr th {\n",
       "        vertical-align: top;\n",
       "    }\n",
       "\n",
       "    .dataframe thead tr th {\n",
       "        text-align: left;\n",
       "    }\n",
       "\n",
       "    .dataframe thead tr:last-of-type th {\n",
       "        text-align: right;\n",
       "    }\n",
       "</style>\n",
       "<table border=\"1\" class=\"dataframe\">\n",
       "  <thead>\n",
       "    <tr>\n",
       "      <th></th>\n",
       "      <th colspan=\"3\" halign=\"left\">days_since_prior_order</th>\n",
       "      <th colspan=\"3\" halign=\"left\">prices</th>\n",
       "    </tr>\n",
       "    <tr>\n",
       "      <th></th>\n",
       "      <th>min</th>\n",
       "      <th>mean</th>\n",
       "      <th>max</th>\n",
       "      <th>min</th>\n",
       "      <th>mean</th>\n",
       "      <th>max</th>\n",
       "    </tr>\n",
       "    <tr>\n",
       "      <th>age_group</th>\n",
       "      <th></th>\n",
       "      <th></th>\n",
       "      <th></th>\n",
       "      <th></th>\n",
       "      <th></th>\n",
       "      <th></th>\n",
       "    </tr>\n",
       "  </thead>\n",
       "  <tbody>\n",
       "    <tr>\n",
       "      <th>Adult</th>\n",
       "      <td>0.0</td>\n",
       "      <td>10.403753</td>\n",
       "      <td>30.0</td>\n",
       "      <td>1.0</td>\n",
       "      <td>119.309617</td>\n",
       "      <td>100384.5</td>\n",
       "    </tr>\n",
       "    <tr>\n",
       "      <th>Older Adult</th>\n",
       "      <td>0.0</td>\n",
       "      <td>10.382166</td>\n",
       "      <td>30.0</td>\n",
       "      <td>1.0</td>\n",
       "      <td>122.515094</td>\n",
       "      <td>100452.9</td>\n",
       "    </tr>\n",
       "    <tr>\n",
       "      <th>Senior</th>\n",
       "      <td>0.0</td>\n",
       "      <td>10.372165</td>\n",
       "      <td>30.0</td>\n",
       "      <td>1.0</td>\n",
       "      <td>117.902487</td>\n",
       "      <td>100330.2</td>\n",
       "    </tr>\n",
       "    <tr>\n",
       "      <th>Young Adult</th>\n",
       "      <td>0.0</td>\n",
       "      <td>10.380577</td>\n",
       "      <td>30.0</td>\n",
       "      <td>1.0</td>\n",
       "      <td>123.717587</td>\n",
       "      <td>100265.6</td>\n",
       "    </tr>\n",
       "  </tbody>\n",
       "</table>\n",
       "</div>"
      ],
      "text/plain": [
       "            days_since_prior_order                  prices              \\\n",
       "                               min       mean   max    min        mean   \n",
       "age_group                                                                \n",
       "Adult                          0.0  10.403753  30.0    1.0  119.309617   \n",
       "Older Adult                    0.0  10.382166  30.0    1.0  122.515094   \n",
       "Senior                         0.0  10.372165  30.0    1.0  117.902487   \n",
       "Young Adult                    0.0  10.380577  30.0    1.0  123.717587   \n",
       "\n",
       "                       \n",
       "                  max  \n",
       "age_group              \n",
       "Adult        100384.5  \n",
       "Older Adult  100452.9  \n",
       "Senior       100330.2  \n",
       "Young Adult  100265.6  "
      ]
     },
     "execution_count": 185,
     "metadata": {},
     "output_type": "execute_result"
    }
   ],
   "source": [
    "agg_age"
   ]
  },
  {
   "cell_type": "code",
   "execution_count": 189,
   "id": "21910b55-168f-45dc-8c97-d98df8afb402",
   "metadata": {},
   "outputs": [],
   "source": [
    "# max, min, mean by age category\n",
    "agg_income = orders_subset.groupby('income_group').agg({'days_since_prior_order' : ['min', 'mean', 'max'], 'prices' : ['min', 'mean', 'max']})"
   ]
  },
  {
   "cell_type": "code",
   "execution_count": 191,
   "id": "0b92fdef-dc27-49e8-a84b-d12eb2ba7c21",
   "metadata": {},
   "outputs": [
    {
     "data": {
      "text/html": [
       "<div>\n",
       "<style scoped>\n",
       "    .dataframe tbody tr th:only-of-type {\n",
       "        vertical-align: middle;\n",
       "    }\n",
       "\n",
       "    .dataframe tbody tr th {\n",
       "        vertical-align: top;\n",
       "    }\n",
       "\n",
       "    .dataframe thead tr th {\n",
       "        text-align: left;\n",
       "    }\n",
       "\n",
       "    .dataframe thead tr:last-of-type th {\n",
       "        text-align: right;\n",
       "    }\n",
       "</style>\n",
       "<table border=\"1\" class=\"dataframe\">\n",
       "  <thead>\n",
       "    <tr>\n",
       "      <th></th>\n",
       "      <th colspan=\"3\" halign=\"left\">days_since_prior_order</th>\n",
       "      <th colspan=\"3\" halign=\"left\">prices</th>\n",
       "    </tr>\n",
       "    <tr>\n",
       "      <th></th>\n",
       "      <th>min</th>\n",
       "      <th>mean</th>\n",
       "      <th>max</th>\n",
       "      <th>min</th>\n",
       "      <th>mean</th>\n",
       "      <th>max</th>\n",
       "    </tr>\n",
       "    <tr>\n",
       "      <th>income_group</th>\n",
       "      <th></th>\n",
       "      <th></th>\n",
       "      <th></th>\n",
       "      <th></th>\n",
       "      <th></th>\n",
       "      <th></th>\n",
       "    </tr>\n",
       "  </thead>\n",
       "  <tbody>\n",
       "    <tr>\n",
       "      <th>High</th>\n",
       "      <td>0.0</td>\n",
       "      <td>10.260991</td>\n",
       "      <td>30.0</td>\n",
       "      <td>1.0</td>\n",
       "      <td>173.328575</td>\n",
       "      <td>100452.9</td>\n",
       "    </tr>\n",
       "    <tr>\n",
       "      <th>Low</th>\n",
       "      <td>0.0</td>\n",
       "      <td>11.070341</td>\n",
       "      <td>30.0</td>\n",
       "      <td>1.0</td>\n",
       "      <td>52.673028</td>\n",
       "      <td>875.0</td>\n",
       "    </tr>\n",
       "    <tr>\n",
       "      <th>Middle</th>\n",
       "      <td>0.0</td>\n",
       "      <td>10.290003</td>\n",
       "      <td>30.0</td>\n",
       "      <td>1.0</td>\n",
       "      <td>87.647632</td>\n",
       "      <td>100264.7</td>\n",
       "    </tr>\n",
       "  </tbody>\n",
       "</table>\n",
       "</div>"
      ],
      "text/plain": [
       "             days_since_prior_order                  prices              \\\n",
       "                                min       mean   max    min        mean   \n",
       "income_group                                                              \n",
       "High                            0.0  10.260991  30.0    1.0  173.328575   \n",
       "Low                             0.0  11.070341  30.0    1.0   52.673028   \n",
       "Middle                          0.0  10.290003  30.0    1.0   87.647632   \n",
       "\n",
       "                        \n",
       "                   max  \n",
       "income_group            \n",
       "High          100452.9  \n",
       "Low              875.0  \n",
       "Middle        100264.7  "
      ]
     },
     "execution_count": 191,
     "metadata": {},
     "output_type": "execute_result"
    }
   ],
   "source": [
    "agg_income"
   ]
  },
  {
   "cell_type": "code",
   "execution_count": 193,
   "id": "234344b3-7416-48c6-816c-d3a95a146527",
   "metadata": {},
   "outputs": [],
   "source": [
    "# max, min, mean by dependents category\n",
    "agg_dependants = orders_subset.groupby('dependants_flag').agg({'days_since_prior_order' : ['min', 'mean', 'max'], 'prices' : ['min', 'mean', 'max']})"
   ]
  },
  {
   "cell_type": "code",
   "execution_count": 195,
   "id": "af55b76c-281d-48cf-a28f-8c3bc26b9155",
   "metadata": {},
   "outputs": [
    {
     "data": {
      "text/html": [
       "<div>\n",
       "<style scoped>\n",
       "    .dataframe tbody tr th:only-of-type {\n",
       "        vertical-align: middle;\n",
       "    }\n",
       "\n",
       "    .dataframe tbody tr th {\n",
       "        vertical-align: top;\n",
       "    }\n",
       "\n",
       "    .dataframe thead tr th {\n",
       "        text-align: left;\n",
       "    }\n",
       "\n",
       "    .dataframe thead tr:last-of-type th {\n",
       "        text-align: right;\n",
       "    }\n",
       "</style>\n",
       "<table border=\"1\" class=\"dataframe\">\n",
       "  <thead>\n",
       "    <tr>\n",
       "      <th></th>\n",
       "      <th colspan=\"3\" halign=\"left\">days_since_prior_order</th>\n",
       "      <th colspan=\"3\" halign=\"left\">prices</th>\n",
       "    </tr>\n",
       "    <tr>\n",
       "      <th></th>\n",
       "      <th>min</th>\n",
       "      <th>mean</th>\n",
       "      <th>max</th>\n",
       "      <th>min</th>\n",
       "      <th>mean</th>\n",
       "      <th>max</th>\n",
       "    </tr>\n",
       "    <tr>\n",
       "      <th>dependants_flag</th>\n",
       "      <th></th>\n",
       "      <th></th>\n",
       "      <th></th>\n",
       "      <th></th>\n",
       "      <th></th>\n",
       "      <th></th>\n",
       "    </tr>\n",
       "  </thead>\n",
       "  <tbody>\n",
       "    <tr>\n",
       "      <th>Has Dependants</th>\n",
       "      <td>0.0</td>\n",
       "      <td>10.388225</td>\n",
       "      <td>30.0</td>\n",
       "      <td>1.0</td>\n",
       "      <td>120.027807</td>\n",
       "      <td>100452.9</td>\n",
       "    </tr>\n",
       "    <tr>\n",
       "      <th>No Dependants</th>\n",
       "      <td>0.0</td>\n",
       "      <td>10.378169</td>\n",
       "      <td>30.0</td>\n",
       "      <td>1.0</td>\n",
       "      <td>121.866791</td>\n",
       "      <td>100384.5</td>\n",
       "    </tr>\n",
       "  </tbody>\n",
       "</table>\n",
       "</div>"
      ],
      "text/plain": [
       "                days_since_prior_order                  prices              \\\n",
       "                                   min       mean   max    min        mean   \n",
       "dependants_flag                                                              \n",
       "Has Dependants                     0.0  10.388225  30.0    1.0  120.027807   \n",
       "No Dependants                      0.0  10.378169  30.0    1.0  121.866791   \n",
       "\n",
       "                           \n",
       "                      max  \n",
       "dependants_flag            \n",
       "Has Dependants   100452.9  \n",
       "No Dependants    100384.5  "
      ]
     },
     "execution_count": 195,
     "metadata": {},
     "output_type": "execute_result"
    }
   ],
   "source": [
    "agg_dependants"
   ]
  },
  {
   "cell_type": "markdown",
   "id": "8db85ee9-6f10-41eb-9c32-9dc4f549a416",
   "metadata": {},
   "source": [
    "Lower income customers spend less on average and shop very slightly less often\\n\",\n",
    "All age groups tend to shop and spend with similar frequency\n",
    "Whether or not a customer has dependents doesn't seem to make a substantial difference to shopping or spendings."
   ]
  },
  {
   "cell_type": "markdown",
   "id": "5b3c8353-fd2e-4a24-9dd0-1406174a408e",
   "metadata": {},
   "source": [
    "# step 8 : Compare customer profiles with regions and departments and identify any links"
   ]
  },
  {
   "cell_type": "code",
   "execution_count": 197,
   "id": "72535ec3-6276-49bf-a0fb-82daa65706a7",
   "metadata": {},
   "outputs": [],
   "source": [
    "df_dept = pd.read_csv(os.path.join(path, '02 Data', 'Prepared Data', 'departments_wrangled.csv'))"
   ]
  },
  {
   "cell_type": "code",
   "execution_count": 201,
   "id": "95458345-1028-4c77-96c0-16fd72255de1",
   "metadata": {},
   "outputs": [
    {
     "data": {
      "text/plain": [
       "<bound method NDFrame.head of     Unnamed: 0       department\n",
       "0            1           frozen\n",
       "1            2            other\n",
       "2            3           bakery\n",
       "3            4          produce\n",
       "4            5          alcohol\n",
       "5            6    international\n",
       "6            7        beverages\n",
       "7            8             pets\n",
       "8            9  dry goods pasta\n",
       "9           10             bulk\n",
       "10          11    personal care\n",
       "11          12     meat seafood\n",
       "12          13           pantry\n",
       "13          14        breakfast\n",
       "14          15     canned goods\n",
       "15          16       dairy eggs\n",
       "16          17        household\n",
       "17          18           babies\n",
       "18          19           snacks\n",
       "19          20             deli\n",
       "20          21          missing>"
      ]
     },
     "execution_count": 201,
     "metadata": {},
     "output_type": "execute_result"
    }
   ],
   "source": [
    "df_dept.head"
   ]
  },
  {
   "cell_type": "code",
   "execution_count": 203,
   "id": "6cc85688-e135-48c9-adde-abe1591f4bf4",
   "metadata": {},
   "outputs": [],
   "source": [
    "#Rename column 'Unnamed: 0' to 'department_id'\n",
    "df_dept.rename(columns = {'Unnamed: 0':'department_id'}, inplace = True)"
   ]
  },
  {
   "cell_type": "code",
   "execution_count": 205,
   "id": "f11f10c6-4a1a-42aa-b379-e695e900e48b",
   "metadata": {},
   "outputs": [
    {
     "data": {
      "text/html": [
       "<div>\n",
       "<style scoped>\n",
       "    .dataframe tbody tr th:only-of-type {\n",
       "        vertical-align: middle;\n",
       "    }\n",
       "\n",
       "    .dataframe tbody tr th {\n",
       "        vertical-align: top;\n",
       "    }\n",
       "\n",
       "    .dataframe thead th {\n",
       "        text-align: right;\n",
       "    }\n",
       "</style>\n",
       "<table border=\"1\" class=\"dataframe\">\n",
       "  <thead>\n",
       "    <tr style=\"text-align: right;\">\n",
       "      <th></th>\n",
       "      <th>department_id</th>\n",
       "      <th>department</th>\n",
       "    </tr>\n",
       "  </thead>\n",
       "  <tbody>\n",
       "    <tr>\n",
       "      <th>0</th>\n",
       "      <td>1</td>\n",
       "      <td>frozen</td>\n",
       "    </tr>\n",
       "    <tr>\n",
       "      <th>1</th>\n",
       "      <td>2</td>\n",
       "      <td>other</td>\n",
       "    </tr>\n",
       "    <tr>\n",
       "      <th>2</th>\n",
       "      <td>3</td>\n",
       "      <td>bakery</td>\n",
       "    </tr>\n",
       "    <tr>\n",
       "      <th>3</th>\n",
       "      <td>4</td>\n",
       "      <td>produce</td>\n",
       "    </tr>\n",
       "    <tr>\n",
       "      <th>4</th>\n",
       "      <td>5</td>\n",
       "      <td>alcohol</td>\n",
       "    </tr>\n",
       "    <tr>\n",
       "      <th>5</th>\n",
       "      <td>6</td>\n",
       "      <td>international</td>\n",
       "    </tr>\n",
       "    <tr>\n",
       "      <th>6</th>\n",
       "      <td>7</td>\n",
       "      <td>beverages</td>\n",
       "    </tr>\n",
       "    <tr>\n",
       "      <th>7</th>\n",
       "      <td>8</td>\n",
       "      <td>pets</td>\n",
       "    </tr>\n",
       "    <tr>\n",
       "      <th>8</th>\n",
       "      <td>9</td>\n",
       "      <td>dry goods pasta</td>\n",
       "    </tr>\n",
       "    <tr>\n",
       "      <th>9</th>\n",
       "      <td>10</td>\n",
       "      <td>bulk</td>\n",
       "    </tr>\n",
       "    <tr>\n",
       "      <th>10</th>\n",
       "      <td>11</td>\n",
       "      <td>personal care</td>\n",
       "    </tr>\n",
       "    <tr>\n",
       "      <th>11</th>\n",
       "      <td>12</td>\n",
       "      <td>meat seafood</td>\n",
       "    </tr>\n",
       "    <tr>\n",
       "      <th>12</th>\n",
       "      <td>13</td>\n",
       "      <td>pantry</td>\n",
       "    </tr>\n",
       "    <tr>\n",
       "      <th>13</th>\n",
       "      <td>14</td>\n",
       "      <td>breakfast</td>\n",
       "    </tr>\n",
       "    <tr>\n",
       "      <th>14</th>\n",
       "      <td>15</td>\n",
       "      <td>canned goods</td>\n",
       "    </tr>\n",
       "    <tr>\n",
       "      <th>15</th>\n",
       "      <td>16</td>\n",
       "      <td>dairy eggs</td>\n",
       "    </tr>\n",
       "    <tr>\n",
       "      <th>16</th>\n",
       "      <td>17</td>\n",
       "      <td>household</td>\n",
       "    </tr>\n",
       "    <tr>\n",
       "      <th>17</th>\n",
       "      <td>18</td>\n",
       "      <td>babies</td>\n",
       "    </tr>\n",
       "    <tr>\n",
       "      <th>18</th>\n",
       "      <td>19</td>\n",
       "      <td>snacks</td>\n",
       "    </tr>\n",
       "    <tr>\n",
       "      <th>19</th>\n",
       "      <td>20</td>\n",
       "      <td>deli</td>\n",
       "    </tr>\n",
       "    <tr>\n",
       "      <th>20</th>\n",
       "      <td>21</td>\n",
       "      <td>missing</td>\n",
       "    </tr>\n",
       "  </tbody>\n",
       "</table>\n",
       "</div>"
      ],
      "text/plain": [
       "    department_id       department\n",
       "0               1           frozen\n",
       "1               2            other\n",
       "2               3           bakery\n",
       "3               4          produce\n",
       "4               5          alcohol\n",
       "5               6    international\n",
       "6               7        beverages\n",
       "7               8             pets\n",
       "8               9  dry goods pasta\n",
       "9              10             bulk\n",
       "10             11    personal care\n",
       "11             12     meat seafood\n",
       "12             13           pantry\n",
       "13             14        breakfast\n",
       "14             15     canned goods\n",
       "15             16       dairy eggs\n",
       "16             17        household\n",
       "17             18           babies\n",
       "18             19           snacks\n",
       "19             20             deli\n",
       "20             21          missing"
      ]
     },
     "execution_count": 205,
     "metadata": {},
     "output_type": "execute_result"
    }
   ],
   "source": [
    "df_dept"
   ]
  },
  {
   "cell_type": "code",
   "execution_count": 207,
   "id": "352026aa-e875-465b-ae3a-0df631fb9324",
   "metadata": {},
   "outputs": [],
   "source": [
    "# Turning department dataframe into data dictionary\n",
    "data_dict = df_dept.to_dict('index')"
   ]
  },
  {
   "cell_type": "code",
   "execution_count": 209,
   "id": "c538fba6-1268-4e6c-888f-5575ad7863f3",
   "metadata": {},
   "outputs": [],
   "source": [
    "instacart_final['department'] = instacart_final['department_id'].map(data_dict)"
   ]
  },
  {
   "cell_type": "code",
   "execution_count": 213,
   "id": "c962e8cd-fa51-4dc7-b3a2-4fa389a1625a",
   "metadata": {},
   "outputs": [
    {
     "data": {
      "text/plain": [
       "Index(['product_id', 'product_name', 'aisle_id', 'department_id', 'prices',\n",
       "       'order_id', 'user_id', 'order_number', 'orders_day_of_week',\n",
       "       'order_hour_of_day', 'days_since_prior_order', 'first_order',\n",
       "       'add_to_cart_order', 'reordered', 'price_range_loc', 'busiest_day',\n",
       "       'busiest_days', 'busiest_period_of_day', 'max_order', 'loyalty_flag',\n",
       "       'average_spend', 'spender_flag', 'customer_frequency', 'frequency_flag',\n",
       "       'gender', 'state', 'age', 'date_joined', 'n_dependants',\n",
       "       'marital_status', 'income', '_merge', 'region', 'exclusion_flag',\n",
       "       'age_group', 'income_group', 'dependants_flag', 'department'],\n",
       "      dtype='object')"
      ]
     },
     "execution_count": 213,
     "metadata": {},
     "output_type": "execute_result"
    }
   ],
   "source": [
    "instacart_final.columns"
   ]
  },
  {
   "cell_type": "code",
   "execution_count": null,
   "id": "ef34c0fe-7a4c-486c-8efe-a60837662ad5",
   "metadata": {},
   "outputs": [],
   "source": []
  }
 ],
 "metadata": {
  "kernelspec": {
   "display_name": "Python 3 (ipykernel)",
   "language": "python",
   "name": "python3"
  },
  "language_info": {
   "codemirror_mode": {
    "name": "ipython",
    "version": 3
   },
   "file_extension": ".py",
   "mimetype": "text/x-python",
   "name": "python",
   "nbconvert_exporter": "python",
   "pygments_lexer": "ipython3",
   "version": "3.12.4"
  }
 },
 "nbformat": 4,
 "nbformat_minor": 5
}
