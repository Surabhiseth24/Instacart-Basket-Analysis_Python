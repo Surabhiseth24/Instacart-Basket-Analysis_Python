{
 "cells": [
  {
   "cell_type": "code",
   "execution_count": 1,
   "id": "d1ac7492-7663-4753-a3df-23f7115507fc",
   "metadata": {},
   "outputs": [],
   "source": [
    "# Import libraries\n",
    "import pandas as pd\n",
    "import numpy as np\n",
    "import os"
   ]
  },
  {
   "cell_type": "code",
   "execution_count": 3,
   "id": "d924fb92-6573-45b3-b3d4-52b86ad2877c",
   "metadata": {},
   "outputs": [
    {
     "name": "stdout",
     "output_type": "stream",
     "text": [
      "100\n"
     ]
    }
   ],
   "source": [
    "# 3 different ways of reaching a result of 100\n",
    "x=65\n",
    "y=35\n",
    "print (x+y)"
   ]
  },
  {
   "cell_type": "code",
   "execution_count": 7,
   "id": "f5a07f0d-1250-4960-b364-b46c23f4e2d2",
   "metadata": {},
   "outputs": [
    {
     "name": "stdout",
     "output_type": "stream",
     "text": [
      "100\n"
     ]
    }
   ],
   "source": [
    "x=554\n",
    "y=454\n",
    "print (x-y)"
   ]
  },
  {
   "cell_type": "code",
   "execution_count": 11,
   "id": "6d97aa57-c0b9-4144-ba79-8740e267e9de",
   "metadata": {},
   "outputs": [
    {
     "name": "stdout",
     "output_type": "stream",
     "text": [
      "100\n"
     ]
    }
   ],
   "source": [
    "x=60\n",
    "y=50\n",
    "z=10\n",
    "print ((x+y)-z)"
   ]
  },
  {
   "cell_type": "code",
   "execution_count": 13,
   "id": "8992cb2d-2577-4598-a848-d78fe1875129",
   "metadata": {},
   "outputs": [
    {
     "name": "stdout",
     "output_type": "stream",
     "text": [
      "15.47764705882353\n"
     ]
    }
   ],
   "source": [
    "#divide 2 floating type variables\n",
    "x=65.78\n",
    "y=4.25\n",
    "print (x/y)"
   ]
  },
  {
   "cell_type": "code",
   "execution_count": 17,
   "id": "ea75aa64-a3f7-4d14-bc74-564a7042430b",
   "metadata": {},
   "outputs": [
    {
     "name": "stdout",
     "output_type": "stream",
     "text": [
      "Hello, Alice\n"
     ]
    }
   ],
   "source": [
    "#short word made of seprate strings\n",
    "a = 'Hello, '\n",
    "b = 'Alice'\n",
    "print (a+b)"
   ]
  },
  {
   "cell_type": "code",
   "execution_count": 19,
   "id": "f0c487ef-7c89-4c72-a228-4b384e69cb52",
   "metadata": {},
   "outputs": [
    {
     "name": "stdout",
     "output_type": "stream",
     "text": [
      "I love Python, it is interesting\n"
     ]
    }
   ],
   "source": [
    "#2 short sentences from seprate strings\n",
    "a = 'I love Python, '\n",
    "b = 'it is interesting'\n",
    "print (a+b)"
   ]
  },
  {
   "cell_type": "code",
   "execution_count": null,
   "id": "20fe0e36-86de-44e0-bb8f-1d72c20c74f0",
   "metadata": {},
   "outputs": [],
   "source": []
  }
 ],
 "metadata": {
  "kernelspec": {
   "display_name": "Python 3 (ipykernel)",
   "language": "python",
   "name": "python3"
  },
  "language_info": {
   "codemirror_mode": {
    "name": "ipython",
    "version": 3
   },
   "file_extension": ".py",
   "mimetype": "text/x-python",
   "name": "python",
   "nbconvert_exporter": "python",
   "pygments_lexer": "ipython3",
   "version": "3.12.4"
  }
 },
 "nbformat": 4,
 "nbformat_minor": 5
}
